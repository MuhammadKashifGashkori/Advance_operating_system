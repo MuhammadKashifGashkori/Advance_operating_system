{
 "cells": [
  {
   "cell_type": "markdown",
   "metadata": {},
   "source": [
    "# Assignmnet No: 02\n",
    "# Muhammad Kashif\n",
    "# MTN-22-14065"
   ]
  },
  {
   "cell_type": "markdown",
   "metadata": {},
   "source": [
    "# 4-11. \n",
    "My Pizzas, Your Pizzas: Start with your program from Exercise 4-1\n",
    "(page 60). Make a copy of the list of pizzas, and call it friend_pizzas.\n",
    "Then, do the following:\n",
    "• Add a new pizza to the original list.\n",
    "• Add a different pizza to the list friend_pizzas.\n",
    "• Prove that you have two separate lists. Print the message, My favorite\n",
    "pizzas are:, and then use a for loop to print the first list. Print the message,\n",
    "My friend’s favorite pizzas are:, and then use a for loop to print the second\n",
    "list. Make sure each new pizza is stored in the appropriate list."
   ]
  },
  {
   "cell_type": "code",
   "execution_count": 15,
   "metadata": {},
   "outputs": [
    {
     "name": "stdout",
     "output_type": "stream",
     "text": [
      "My Favorite pizzas are:\n",
      "Chicago Pizza\n",
      "Siclian Pizza\n",
      "Greek Pizza\n",
      "Deep Disha Pizza\n",
      "Fajeeta\n",
      "\n",
      "My friend's Favorite pizzas are:\n",
      "Chicago Pizza\n",
      "Siclian Pizza\n",
      "Greek Pizza\n",
      "Deep Disha Pizza\n",
      "BoneFire\n"
     ]
    }
   ],
   "source": [
    "pizza_kashif=['Chicago Pizza','Siclian Pizza','Greek Pizza','Deep Disha Pizza']\n",
    "# Copying List to an other List\n",
    "friend_pizza_kashif=pizza_kashif[:]\n",
    "\n",
    "#Inserting new item in original List\n",
    "pizza_kashif.append('Fajeeta')\n",
    "#inserting mew item to firends Pizza list\n",
    "friend_pizza_kashif.append('BoneFire')\n",
    "\n",
    "print(\"My Favorite pizzas are:\")\n",
    "for pizzas in pizza_kashif:\n",
    "    print(pizzas)\n",
    "    \n",
    "print(\"\\nMy friend's Favorite pizzas are:\")\n",
    "for friend_pizzas in friend_pizza_kashif:\n",
    "    print(friend_pizzas)\n"
   ]
  },
  {
   "cell_type": "markdown",
   "metadata": {},
   "source": [
    "# 4-13.\n",
    "Buffet: A buffet-style restaurant offers only five basic foods. Think of five\n",
    "simple foods, and store them in a tuple.\n",
    "• Use a for loop to print each food the restaurant offers.\n",
    "• Try to modify one of the items, and make sure that Python rejects the\n",
    "change.\n",
    "• The restaurant changes its menu, replacing two of the items with different\n",
    "foods. Add a block of code that rewrites the tuple, and then use a for\n",
    "loop to print each of the items on the revised menu."
   ]
  },
  {
   "cell_type": "code",
   "execution_count": 16,
   "metadata": {},
   "outputs": [
    {
     "name": "stdout",
     "output_type": "stream",
     "text": [
      "Our Resturant Offers following Foods:\n",
      "Mutton\n",
      "Chicket\n",
      "rice\n",
      "kabab\n",
      "fish\n"
     ]
    },
    {
     "ename": "TypeError",
     "evalue": "'tuple' object does not support item assignment",
     "output_type": "error",
     "traceback": [
      "\u001b[1;31m---------------------------------------------------------------------------\u001b[0m",
      "\u001b[1;31mTypeError\u001b[0m                                 Traceback (most recent call last)",
      "\u001b[1;32me:\\Assignments\\Assignment_02.ipynb Cell 5\u001b[0m in \u001b[0;36m<cell line: 7>\u001b[1;34m()\u001b[0m\n\u001b[0;32m      <a href='vscode-notebook-cell:/e%3A/Assignments/Assignment_02.ipynb#W4sZmlsZQ%3D%3D?line=4'>5</a>\u001b[0m     \u001b[39mprint\u001b[39m(foods)   \n\u001b[0;32m      <a href='vscode-notebook-cell:/e%3A/Assignments/Assignment_02.ipynb#W4sZmlsZQ%3D%3D?line=5'>6</a>\u001b[0m \u001b[39m#part 2 \u001b[39;00m\n\u001b[1;32m----> <a href='vscode-notebook-cell:/e%3A/Assignments/Assignment_02.ipynb#W4sZmlsZQ%3D%3D?line=6'>7</a>\u001b[0m buffet_kashif[\u001b[39m0\u001b[39;49m]\u001b[39m=\u001b[39m\u001b[39m'\u001b[39m\u001b[39mTikka Boti\u001b[39m\u001b[39m'\u001b[39m\n",
      "\u001b[1;31mTypeError\u001b[0m: 'tuple' object does not support item assignment"
     ]
    }
   ],
   "source": [
    "buffet_kashif=('Mutton','Chicket','rice','kabab','fish')\n",
    "print(\"Our Resturant Offers following Foods:\")\n",
    "# Part 1 \n",
    "for foods in buffet_kashif:\n",
    "    print(foods)   \n",
    "#part 2 \n",
    "buffet_kashif[0]='Tikka Boti'"
   ]
  },
  {
   "cell_type": "code",
   "execution_count": null,
   "metadata": {},
   "outputs": [
    {
     "name": "stdout",
     "output_type": "stream",
     "text": [
      "Our Resturant Offers following Foods after adding new items:\n",
      "Mutton\n",
      "Chicket\n",
      "rice\n",
      "kabab\n",
      "fish\n",
      "Tikka Boti\n"
     ]
    }
   ],
   "source": [
    "# Part 3\n",
    "buffet_kashif=('Mutton','Chicket','rice','kabab','fish','Tikka Boti')\n",
    "print(\"Our Resturant Offers following Foods after adding new items:\")\n",
    "for foods in buffet_kashif:\n",
    "    print(foods)"
   ]
  },
  {
   "cell_type": "markdown",
   "metadata": {},
   "source": [
    "# 5-2.\n",
    " More Conditional Tests: You don’t have to limit the number of tests you\n",
    "create to 10. If you want to try more comparisons, write more tests and add\n",
    "them to conditional_tests.py. Have at least one True and one False result for\n",
    "each of the following:\n",
    "• Tests for equality and inequality with strings\n",
    "• Tests using the lower() function\n",
    "• Numerical tests involving equality and inequality, greater than and\n",
    "less than, greater than or equal to, and less than or equal to\n",
    "• Tests using the and keyword and the or keyword\n",
    "• Test whether an item is in a list\n",
    "• Test whether an item is not in a list"
   ]
  },
  {
   "cell_type": "code",
   "execution_count": null,
   "metadata": {},
   "outputs": [
    {
     "name": "stdout",
     "output_type": "stream",
     "text": [
      "False\n",
      "True\n",
      "True\n",
      "False\n",
      "\n",
      "\n",
      "False\n",
      "True\n",
      "\n",
      "\n",
      "False\n",
      "True\n",
      "False\n",
      "False\n",
      "True\n",
      "True\n",
      "\n",
      "\n",
      "False\n",
      "True\n",
      "\n",
      "\n",
      "Item is Not available in the list\n"
     ]
    }
   ],
   "source": [
    "# Part 1\n",
    "cell_kashif=\"Samsung\"\n",
    "print(cell_kashif=='Nokia')\n",
    "print(cell_kashif=='Samsung')\n",
    "print(cell_kashif!='Nokia')\n",
    "print(cell_kashif!='Samsung')\n",
    "\n",
    "# Part 2 Test using the Lower function\n",
    "print(\"\\n\")\n",
    "print(cell_kashif.lower()=='Samsung')\n",
    "print(cell_kashif.lower()=='samsung')\n",
    "\n",
    "# Part 3\n",
    "print(\"\\n\") \n",
    "a_kashif=15\n",
    "print(a_kashif==10) # Equality\n",
    "print(a_kashif!=10) # Non Equality\n",
    "print(a_kashif>15)  # Greater then\n",
    "print(a_kashif<15)  # Less then\n",
    "print(a_kashif>=10) #Greater then equal to\n",
    "print(a_kashif<=15)  # less then equal to\n",
    "\n",
    "#Part 4\n",
    "print(\"\\n\")\n",
    "age_kashif=15\n",
    "height_kashif=5.7\n",
    "print(age_kashif>18 and height_kashif>=5.6)\n",
    "print(age_kashif>18 or height_kashif>=5.6)\n",
    "    \n",
    "# Part 5\n",
    "print(\"\\n\") \n",
    "list_kashif=[30,25,56,580,582,100]\n",
    "item_kashif=990\n",
    "for item in list_kashif:\n",
    "    if(item_kashif==item):\n",
    "        item_kashif=True\n",
    "if(item_kashif==True):\n",
    "    print(\"Item is Available in the list\")\n",
    "else:\n",
    "    print(\"Item is Not available in the list\")\n"
   ]
  },
  {
   "cell_type": "markdown",
   "metadata": {},
   "source": [
    "# 6-3.\n",
    "Glossary: A Python dictionary can be used to model an actual dictionary.\n",
    "However, to avoid confusion, let’s call it a glossary.\n",
    "• Think of five programming words you’ve learned about in the previous\n",
    "chapters. Use these words as the keys in your glossary, and store their\n",
    "meanings as values.\n",
    "• Print each word and its meaning as neatly formatted output. You might\n",
    "print the word followed by a colon and then its meaning, or print the word\n",
    "on one line and then print its meaning indented on a second line. Use the\n",
    "newline character (\\n) to insert a blank line between each word-meaning\n",
    "pair in your output.\n",
    "Looping"
   ]
  },
  {
   "cell_type": "code",
   "execution_count": null,
   "metadata": {},
   "outputs": [
    {
     "name": "stdout",
     "output_type": "stream",
     "text": [
      "Variable:\tNamed memory locations\n",
      "List:\tdata structure to store group of items\n",
      "Python:\tA high level Programing Language\n",
      "if:\tconditional Statement\n",
      "Loops:\trepaetidly executes stament or block of statements\n"
     ]
    }
   ],
   "source": [
    "glossary_kashif={\n",
    "    'Variable':'Named memory locations',\n",
    "    'List':'data structure to store group of items',\n",
    "    'Python':'A high level Programing Language',\n",
    "    'if':'conditional Statement',\n",
    "    'Loops':'repaetidly executes stament or block of statements'\n",
    "}\n",
    "for key,value in glossary_kashif.items():\n",
    "    print(key+\":\\t\"+value)"
   ]
  },
  {
   "cell_type": "markdown",
   "metadata": {},
   "source": [
    "# 6-11.\n",
    "Cities: Make a dictionary called cities. Use the names of three cities as\n",
    "keys in your dictionary. Create a dictionary of information about each city and\n",
    "include the country that the city is in, its approximate population, and one fact\n",
    "about that city. The keys for each city’s dictionary should be something like\n",
    "country, population, and fact. Print the name of each city and all of the information\n",
    "you have stored about it."
   ]
  },
  {
   "cell_type": "code",
   "execution_count": 19,
   "metadata": {},
   "outputs": [
    {
     "name": "stdout",
     "output_type": "stream",
     "text": [
      "\n",
      "City Name: Lahore\n",
      "\tContry: Pakistan\n",
      "\tPopulation: 11.13 Million\n",
      "\tFact: Biggest city of the region\n",
      "\n",
      "City Name: New York\n",
      "\tContry: United States\n",
      "\tPopulation: 8.468 Million\n",
      "\tFact: About 22 percent of New York City's land is used for public parks \n",
      "\n",
      "City Name: Mumbai\n",
      "\tContry: India\n",
      "\tPopulation: 20.96 Million\n",
      "\tFact: Mumbai was earlier called as Bombay\n"
     ]
    }
   ],
   "source": [
    "cities_kashif={\n",
    "    'Lahore':{\n",
    "        'Country':'Pakistan',\n",
    "        'Population':'11.13 Million',\n",
    "        'Fact':'Biggest city of the region'\n",
    "    },\n",
    "    'New York':{\n",
    "        'Country':'United States',\n",
    "        'Population':'8.468 Million',\n",
    "        'Fact':'About 22 percent of New York City\\'s land is used for public parks '\n",
    "    },\n",
    "    'Mumbai':{\n",
    "        'Country':'India',\n",
    "        'Population':'20.96 Million',\n",
    "        'Fact':'Mumbai was earlier called as Bombay'\n",
    "    }\n",
    "}\n",
    "for cities,info in cities_kashif.items():\n",
    "    print(\"\\nCity Name: \"+cities)\n",
    "    print(\"\\tContry: \"+info['Country'])\n",
    "    print(\"\\tPopulation: \"+info['Population'])\n",
    "    print(\"\\tFact: \"+info['Fact'])"
   ]
  },
  {
   "cell_type": "markdown",
   "metadata": {},
   "source": [
    "# 6-12.\n",
    "Extensions: We’re now working with examples that are complex enough\n",
    "that they can be extended in any number of ways. Use one of the example programs\n",
    "from this chapter, and extend it by adding new keys and values, changing\n",
    "the context of the program or improving the formatting of the output."
   ]
  },
  {
   "cell_type": "code",
   "execution_count": null,
   "metadata": {},
   "outputs": [
    {
     "name": "stdout",
     "output_type": "stream",
     "text": [
      "Follwing items are in the dictionary.\n",
      "Jen's favorite Language is: Python\n",
      "Sarah's favorite Language is: C\n",
      "Edward's favorite Language is: Ruby\n",
      "Phil's favorite Language is: Python\n",
      "\n",
      "Follwing items are in the dictionary after adding new keys and values.\n",
      "Jen's favorite Language is --> PYTHON\n",
      "Sarah's favorite Language is --> C\n",
      "Edward's favorite Language is --> RUBY\n",
      "Phil's favorite Language is --> PYTHON\n",
      "Lara's favorite Language is --> HTML\n",
      "Smith's favorite Language is --> PHP\n"
     ]
    }
   ],
   "source": [
    "favorite_languages_kashif = {\n",
    "    'jen': 'python',\n",
    "    'sarah': 'c',\n",
    "    'edward': 'ruby',\n",
    "    'phil': 'python',\n",
    "}\n",
    "print(\"Follwing items are in the dictionary.\")\n",
    "for name,language in favorite_languages_kashif.items():\n",
    "    print(name.title()+\"'s favorite Language is: \"+language.title())\n",
    "\n",
    "# adding new keys and values in the dictionary\n",
    "favorite_languages_kashif['Lara']='html'\n",
    "favorite_languages_kashif['Smith']='php'\n",
    "print(\"\\nFollwing items are in the dictionary after adding new keys and values.\")\n",
    "for name,language in favorite_languages_kashif.items():\n",
    "    print(name.title()+\"'s favorite Language is --> \"+language.upper())"
   ]
  }
 ],
 "metadata": {
  "kernelspec": {
   "display_name": "Python 3.10.5 64-bit",
   "language": "python",
   "name": "python3"
  },
  "language_info": {
   "codemirror_mode": {
    "name": "ipython",
    "version": 3
   },
   "file_extension": ".py",
   "mimetype": "text/x-python",
   "name": "python",
   "nbconvert_exporter": "python",
   "pygments_lexer": "ipython3",
   "version": "3.10.5"
  },
  "orig_nbformat": 4,
  "vscode": {
   "interpreter": {
    "hash": "afb734500600fd355917ca529030176ea0ca205570884b88f2f6f7d791fd3fbe"
   }
  }
 },
 "nbformat": 4,
 "nbformat_minor": 2
}
